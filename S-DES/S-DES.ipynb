{
 "cells": [
  {
   "cell_type": "markdown",
   "id": "c8670dd8",
   "metadata": {},
   "source": [
    "Implementacje algorytmu wykonałem na podstawie filmu pod tytułem \"Simplified Data Encryption Standard (DES) Example\"\n",
    "link do filmu: https://www.youtube.com/watch?v=3jGMCyOXOV8"
   ]
  },
  {
   "cell_type": "markdown",
   "id": "7c6a6a50",
   "metadata": {},
   "source": [
    "# Variable Initialization"
   ]
  },
  {
   "cell_type": "code",
   "execution_count": 47,
   "id": "b6e8d621",
   "metadata": {},
   "outputs": [],
   "source": [
    "PLAINTEXT = '01110010'\n",
    "KEY = '1010000010'"
   ]
  },
  {
   "cell_type": "code",
   "execution_count": 48,
   "id": "59a97ef0",
   "metadata": {},
   "outputs": [],
   "source": [
    "𝐼𝑃 = [1,5,2,0,3,7,4,6]\n",
    "\n",
    "𝐸𝑃 = [3,0,1,2,1,2,3,0]\n",
    "\n",
    "𝑃10 = [2,4,1,6,3,9,0,8,7,5]\n",
    "\n",
    "𝑃8 = [5,2,6,3,7,4,9,8]\n",
    "\n",
    "𝑃4 = [1,3,2,0]\n",
    "\n",
    "𝐼nv𝑃 = [3,0,2,4,6,1,7,5]\n",
    "\n",
    "S0 = {\n",
    "    (0, 0, 0, 0): [0, 1], (0, 0, 1, 0): [0, 0], (0, 1, 0, 0): [1, 1], (0, 1, 1, 0): [1, 0],\n",
    "    (0, 0, 0, 1): [1, 1], (0, 0, 1, 1): [1, 0], (0, 1, 0, 1): [0, 1], (0, 1, 1, 1): [0, 0],\n",
    "    (1, 0, 0, 0): [0, 0], (1, 0, 1, 0): [0, 1], (1, 1, 0, 0): [0, 1], (1, 1, 1, 0): [1, 1],\n",
    "    (1, 0, 0, 1): [1, 1], (1, 0, 1, 1): [0, 1], (1, 1, 0, 1): [1, 1], (1, 1, 1, 1): [1, 0]\n",
    "}\n",
    "\n",
    "S1 = {\n",
    "    (0, 0, 0, 0): [0, 0], (0, 0, 1, 0): [0, 1], (0, 1, 0, 0): [1, 0], (0, 1, 1, 0): [1, 1],\n",
    "    (0, 0, 0, 1): [1, 0], (0, 0, 1, 1): [0, 0], (0, 1, 0, 1): [0, 1], (0, 1, 1, 1): [1, 1],\n",
    "    (1, 0, 0, 0): [1, 1], (1, 0, 1, 0): [0, 0], (1, 1, 0, 0): [0, 1], (1, 1, 1, 0): [0, 0],\n",
    "    (1, 0, 0, 1): [1, 0], (1, 0, 1, 1): [0, 1], (1, 1, 0, 1): [0, 0], (1, 1, 1, 1): [1, 1]\n",
    "}"
   ]
  },
  {
   "cell_type": "markdown",
   "id": "b02dd8e0",
   "metadata": {},
   "source": [
    "# * * * * * * * * * * * * * * * * KEY GENERATION * * * * * * * * * * * * * * * * "
   ]
  },
  {
   "cell_type": "markdown",
   "id": "d0bc3084",
   "metadata": {},
   "source": [
    "![Obraz](KLUCZ.png)"
   ]
  },
  {
   "cell_type": "markdown",
   "id": "926cac33",
   "metadata": {},
   "source": [
    "##  - - - - - - - - - - - - - - - - - - - - - - - -1st Key - - - - - - - - - - - - - - - - - - - - - - - - "
   ]
  },
  {
   "cell_type": "markdown",
   "id": "53ec6672",
   "metadata": {},
   "source": [
    "### 1. Key permutation (10bit into 10bit)"
   ]
  },
  {
   "cell_type": "markdown",
   "id": "a1d42bee",
   "metadata": {},
   "source": [
    "![Obraz](KP10.png)"
   ]
  },
  {
   "cell_type": "code",
   "execution_count": 49,
   "id": "8c835537",
   "metadata": {},
   "outputs": [
    {
     "name": "stdout",
     "output_type": "stream",
     "text": [
      "permuted key = 1000001100\n"
     ]
    }
   ],
   "source": [
    "permuted_key = ''\n",
    "\n",
    "for i in P10:\n",
    "    permuted_key += KEY[i]\n",
    "\n",
    "print(\"permuted key =\", permuted_key)"
   ]
  },
  {
   "cell_type": "markdown",
   "id": "3d2a7e3c",
   "metadata": {},
   "source": [
    "### 2. Key split"
   ]
  },
  {
   "cell_type": "markdown",
   "id": "ac258cc8",
   "metadata": {},
   "source": [
    "![Obraz](KSPLIT.png)"
   ]
  },
  {
   "cell_type": "code",
   "execution_count": 50,
   "id": "df33fc53",
   "metadata": {},
   "outputs": [
    {
     "name": "stdout",
     "output_type": "stream",
     "text": [
      "left key = 10000\n",
      "right key = 01100\n"
     ]
    }
   ],
   "source": [
    "left_key = permuted_key[0:5]\n",
    "right_key = permuted_key[5:10]\n",
    "\n",
    "print(f\"left key = {left_key}\")\n",
    "print(f\"right key = {right_key}\")"
   ]
  },
  {
   "cell_type": "markdown",
   "id": "631f82e7",
   "metadata": {},
   "source": [
    "### 3. Left shift by 1"
   ]
  },
  {
   "cell_type": "markdown",
   "id": "5dec90aa",
   "metadata": {},
   "source": [
    "![Obraz](KLSHIFT.png)"
   ]
  },
  {
   "cell_type": "code",
   "execution_count": 51,
   "id": "a78ca2da",
   "metadata": {},
   "outputs": [
    {
     "name": "stdout",
     "output_type": "stream",
     "text": [
      "shifted by 1 left key = 00001\n",
      "shifted by 1 right key = 11000\n"
     ]
    }
   ],
   "source": [
    "shifted_by_1_left_key = left_key[1:] + left_key[0]\n",
    "shifted_by_1_right_key = right_key[1:] + right_key[0]\n",
    "\n",
    "print(f\"shifted by 1 left key = {shifted_by_1_left_key}\")\n",
    "print(f\"shifted by 1 right key = {shifted_by_1_right_key}\")"
   ]
  },
  {
   "cell_type": "markdown",
   "id": "cee6cb1a",
   "metadata": {},
   "source": [
    "### 4. Key Concatenation"
   ]
  },
  {
   "cell_type": "markdown",
   "id": "733a80d7",
   "metadata": {},
   "source": [
    "![Obraz](KCONC.png)"
   ]
  },
  {
   "cell_type": "code",
   "execution_count": 52,
   "id": "814ff6de",
   "metadata": {},
   "outputs": [
    {
     "name": "stdout",
     "output_type": "stream",
     "text": [
      "new key = 0000111000\n"
     ]
    }
   ],
   "source": [
    "new_key1 = shifted_by_1_left_key + shifted_by_1_right_key\n",
    "\n",
    "print(f\"new key = {new_key1}\")"
   ]
  },
  {
   "cell_type": "markdown",
   "id": "3691e952",
   "metadata": {},
   "source": [
    "### 5. Key permutation (10bit into 8bit)"
   ]
  },
  {
   "cell_type": "markdown",
   "id": "64f4caa1",
   "metadata": {},
   "source": [
    "![Obraz](K1P10.png)"
   ]
  },
  {
   "cell_type": "code",
   "execution_count": 53,
   "id": "e4333a75",
   "metadata": {},
   "outputs": [
    {
     "name": "stdout",
     "output_type": "stream",
     "text": [
      "permuted key: 10100100\n"
     ]
    }
   ],
   "source": [
    "K_1 = ''\n",
    "\n",
    "for i in P8:\n",
    "    K_1 += new_key1[i]\n",
    "    \n",
    "print(\"permuted key:\", K_1)"
   ]
  },
  {
   "cell_type": "markdown",
   "id": "51fce37b",
   "metadata": {},
   "source": [
    "##  - - - - - - - - - - - - - - - - - - - - - - - - 2nd Key - - - - - - - - - - - - - - - - - - - - - - - -"
   ]
  },
  {
   "cell_type": "markdown",
   "id": "0787130f",
   "metadata": {},
   "source": [
    "### 6. Left shift by 2"
   ]
  },
  {
   "cell_type": "markdown",
   "id": "3a50f7e7",
   "metadata": {},
   "source": [
    "![Obraz](K2LS2.png)"
   ]
  },
  {
   "cell_type": "code",
   "execution_count": 54,
   "id": "24df0afc",
   "metadata": {},
   "outputs": [
    {
     "name": "stdout",
     "output_type": "stream",
     "text": [
      "shifted by 2 left key = 00100\n",
      "shifted by 2 right key = 00011\n"
     ]
    }
   ],
   "source": [
    "shifted_by_2_left_key = shifted_by_1_left_key[2:] + shifted_by_1_left_key[:2]\n",
    "shifted_by_2_right_key = shifted_by_1_right_key[2:] + shifted_by_1_right_key[:2]\n",
    "\n",
    "print(f\"shifted by 2 left key = {shifted_by_2_left_key}\")\n",
    "print(f\"shifted by 2 right key = {shifted_by_2_right_key}\")"
   ]
  },
  {
   "cell_type": "markdown",
   "id": "dffcbfce",
   "metadata": {},
   "source": [
    "### 7. Key Concatenation"
   ]
  },
  {
   "cell_type": "markdown",
   "id": "629c4e66",
   "metadata": {},
   "source": [
    "![Obraz](K2CONC.png)"
   ]
  },
  {
   "cell_type": "code",
   "execution_count": 55,
   "id": "49b8a1c9",
   "metadata": {},
   "outputs": [
    {
     "name": "stdout",
     "output_type": "stream",
     "text": [
      "new key = 0010000011\n"
     ]
    }
   ],
   "source": [
    "new_key2 = shifted_by_2_left_key + shifted_by_2_right_key\n",
    "\n",
    "print(f\"new key = {new_key2}\")"
   ]
  },
  {
   "cell_type": "markdown",
   "id": "09b69b2d",
   "metadata": {},
   "source": [
    "### 8. Key Permutation (10bit into 8bit)"
   ]
  },
  {
   "cell_type": "markdown",
   "id": "a20239d7",
   "metadata": {},
   "source": [
    "![Obraz](KLUCZ.png)"
   ]
  },
  {
   "cell_type": "code",
   "execution_count": 56,
   "id": "6f49ab81",
   "metadata": {},
   "outputs": [
    {
     "name": "stdout",
     "output_type": "stream",
     "text": [
      "Permutowany klucz: 01000011\n"
     ]
    }
   ],
   "source": [
    "K_2 = ''\n",
    "\n",
    "for i in P8:\n",
    "    K_2 += new_key2[i]\n",
    "\n",
    "print(\"Permutowany klucz:\", K_2)"
   ]
  },
  {
   "cell_type": "markdown",
   "id": "6945f824",
   "metadata": {},
   "source": [
    "# * * * * * * * * * * * * * * KEY GENERATION COMPLETED * * * * * * * * * * * * * * "
   ]
  },
  {
   "cell_type": "markdown",
   "id": "dfc4f4b2",
   "metadata": {},
   "source": [
    "----"
   ]
  },
  {
   "cell_type": "markdown",
   "id": "1f132be6",
   "metadata": {},
   "source": [
    "# * * * * * * * * * * * * * * * * TEXT ENCRYPTION * * * * * * * * * * * * * * * *"
   ]
  },
  {
   "cell_type": "markdown",
   "id": "4d0e2da6",
   "metadata": {},
   "source": [
    "![Obraz](ENCRYPTION.png)"
   ]
  },
  {
   "cell_type": "code",
   "execution_count": 57,
   "id": "57ee870c",
   "metadata": {},
   "outputs": [
    {
     "name": "stdout",
     "output_type": "stream",
     "text": [
      "Orginal text: 01110010\n"
     ]
    }
   ],
   "source": [
    "print(f\"Orginal text: {PLAINTEXT}\")"
   ]
  },
  {
   "cell_type": "markdown",
   "id": "80915cbc",
   "metadata": {},
   "source": [
    "### Initial Permutation (8bit into 8bit)"
   ]
  },
  {
   "cell_type": "markdown",
   "id": "10202e70",
   "metadata": {},
   "source": [
    "![Obraz](IPT.png)"
   ]
  },
  {
   "cell_type": "code",
   "execution_count": 58,
   "id": "15bf63ca",
   "metadata": {},
   "outputs": [
    {
     "name": "stdout",
     "output_type": "stream",
     "text": [
      "permuted plaintext = 10101001\n"
     ]
    }
   ],
   "source": [
    "permuted_plaintext = ''\n",
    "\n",
    "for i in 𝐼𝑃:\n",
    "    permuted_plaintext += PLAINTEXT[i]\n",
    "\n",
    "print(\"permuted plaintext =\", permuted_plaintext)"
   ]
  },
  {
   "cell_type": "markdown",
   "id": "525f4e80",
   "metadata": {},
   "source": [
    "# * * * * * * * * * * * 1st Block of Encryption Using 1st Key* * * * * * * * * * * "
   ]
  },
  {
   "cell_type": "markdown",
   "id": "3718fabc",
   "metadata": {},
   "source": [
    "### 1. Plaintext split"
   ]
  },
  {
   "cell_type": "markdown",
   "id": "a71d96ac",
   "metadata": {},
   "source": [
    "![Obraz](1STSPL.png)"
   ]
  },
  {
   "cell_type": "code",
   "execution_count": 59,
   "id": "64c973f5",
   "metadata": {},
   "outputs": [
    {
     "name": "stdout",
     "output_type": "stream",
     "text": [
      "left plaintext = 1010\n",
      "right plaintext = 1001\n"
     ]
    }
   ],
   "source": [
    "left_plaintext = permuted_plaintext[0:4]\n",
    "right_plaintext = permuted_plaintext[4:8]\n",
    "\n",
    "print(f\"left plaintext = {left_plaintext}\")\n",
    "print(f\"right plaintext = {right_plaintext}\")"
   ]
  },
  {
   "cell_type": "markdown",
   "id": "5b1a4f7c",
   "metadata": {},
   "source": [
    "### 2. Expand and Permutate (8bit into 8bit)"
   ]
  },
  {
   "cell_type": "markdown",
   "id": "2ab3ccb4",
   "metadata": {},
   "source": [
    "![Obraz](1EP.png)"
   ]
  },
  {
   "cell_type": "code",
   "execution_count": 60,
   "id": "9914ec64",
   "metadata": {},
   "outputs": [
    {
     "name": "stdout",
     "output_type": "stream",
     "text": [
      "Permutated text: 11000011\n"
     ]
    }
   ],
   "source": [
    "permuted_right_text = ''\n",
    "\n",
    "for i in 𝐸𝑃:\n",
    "    permuted_right_text += right_plaintext[i]\n",
    "\n",
    "print(\"Permutated text:\", permuted_right_text)"
   ]
  },
  {
   "cell_type": "markdown",
   "id": "06843bb5",
   "metadata": {},
   "source": [
    "### 3. XOR Operation of Right Plaintext and 1st Key"
   ]
  },
  {
   "cell_type": "markdown",
   "id": "c66fb70d",
   "metadata": {},
   "source": [
    "![Obraz](1XOR.png)"
   ]
  },
  {
   "cell_type": "code",
   "execution_count": 61,
   "id": "e2da3835",
   "metadata": {},
   "outputs": [
    {
     "name": "stdout",
     "output_type": "stream",
     "text": [
      "xor result = 01100111\n"
     ]
    }
   ],
   "source": [
    "xor_result = ''\n",
    "\n",
    "for i in range(len(permuted_right_text)):\n",
    "    if permuted_right_text[i] != K_1[i]:\n",
    "        xor_result += '1'\n",
    "    else:\n",
    "        xor_result += '0'\n",
    "\n",
    "print(f\"xor result = {xor_result}\")"
   ]
  },
  {
   "cell_type": "markdown",
   "id": "d944f936",
   "metadata": {},
   "source": [
    "### 4. Right Plaintext Split"
   ]
  },
  {
   "cell_type": "markdown",
   "id": "167ba39e",
   "metadata": {},
   "source": [
    "![Obraz](1RPS.png)"
   ]
  },
  {
   "cell_type": "code",
   "execution_count": 62,
   "id": "7925c2e7",
   "metadata": {},
   "outputs": [
    {
     "name": "stdout",
     "output_type": "stream",
     "text": [
      "left xor = 0110\n",
      "right xor = 0111\n"
     ]
    }
   ],
   "source": [
    "left_xor = xor_result[0:4]\n",
    "right_xor = xor_result[4:8]\n",
    "\n",
    "print(f\"left xor = {left_xor}\")\n",
    "print(f\"right xor = {right_xor}\")"
   ]
  },
  {
   "cell_type": "markdown",
   "id": "4655a42d",
   "metadata": {},
   "source": [
    "### 5. Mapping Bits Using S-Boxes"
   ]
  },
  {
   "cell_type": "markdown",
   "id": "21e8b56b",
   "metadata": {},
   "source": [
    "![Obraz](1MAP.png)"
   ]
  },
  {
   "cell_type": "code",
   "execution_count": 63,
   "id": "fb9b0d2b",
   "metadata": {},
   "outputs": [
    {
     "name": "stdout",
     "output_type": "stream",
     "text": [
      "left S-box output = [1, 0]\n",
      "right S-box output = [1, 1]\n"
     ]
    }
   ],
   "source": [
    "# Mapping strings into tuples of intigers\n",
    "left_xor_tuple = tuple(map(int, left_xor))\n",
    "right_xor_tuple = tuple(map(int, right_xor))\n",
    "\n",
    "# Retrieving data from S-Boxes\n",
    "left_sbox_output = S0[left_xor_tuple]\n",
    "right_sbox_output = S1[right_xor_tuple]\n",
    "\n",
    "print(f\"left S-box output = {left_sbox_output}\")\n",
    "print(f\"right S-box output = {right_sbox_output}\")"
   ]
  },
  {
   "cell_type": "markdown",
   "id": "2957b09e",
   "metadata": {},
   "source": [
    "### 6. Bits Concatenation"
   ]
  },
  {
   "cell_type": "markdown",
   "id": "e480c3f5",
   "metadata": {},
   "source": [
    "![Obraz](1BC.png)"
   ]
  },
  {
   "cell_type": "code",
   "execution_count": 64,
   "id": "7f43faef",
   "metadata": {},
   "outputs": [
    {
     "name": "stdout",
     "output_type": "stream",
     "text": [
      "combined bits = 1011\n"
     ]
    }
   ],
   "source": [
    "combined_bits = ''.join(map(str, left_sbox_output + right_sbox_output))\n",
    "\n",
    "print(f\"combined bits = {combined_bits}\")"
   ]
  },
  {
   "cell_type": "markdown",
   "id": "c99d7059",
   "metadata": {},
   "source": [
    "### 7. Bits Permutation (4bit into 4bit)"
   ]
  },
  {
   "cell_type": "markdown",
   "id": "1940aecb",
   "metadata": {},
   "source": [
    "![Obraz](1BP.png)"
   ]
  },
  {
   "cell_type": "code",
   "execution_count": 65,
   "id": "5c84bdf2",
   "metadata": {},
   "outputs": [
    {
     "name": "stdout",
     "output_type": "stream",
     "text": [
      "permuted bits = 0111\n"
     ]
    }
   ],
   "source": [
    "permuted_bits = ''\n",
    "\n",
    "for i in 𝑃4:\n",
    "    permuted_bits += combined_bits[i]\n",
    "\n",
    "print(\"permuted bits =\", permuted_bits)"
   ]
  },
  {
   "cell_type": "markdown",
   "id": "e93f4ac8",
   "metadata": {},
   "source": [
    "### 8. XOR Operation of Left Plaintext and Previous Results"
   ]
  },
  {
   "cell_type": "markdown",
   "id": "2a38ab73",
   "metadata": {},
   "source": [
    "![Obraz](1XORE.png)"
   ]
  },
  {
   "cell_type": "code",
   "execution_count": 66,
   "id": "daa3530e",
   "metadata": {},
   "outputs": [
    {
     "name": "stdout",
     "output_type": "stream",
     "text": [
      "xor result = 1101\n"
     ]
    }
   ],
   "source": [
    "xor_result = ''\n",
    "\n",
    "for i in range(len(left_plaintext)):\n",
    "    if left_plaintext[i] != permuted_bits[i]:\n",
    "        xor_result += '1'\n",
    "    else:\n",
    "        xor_result += '0'\n",
    "\n",
    "print(f\"xor result = {xor_result}\")"
   ]
  },
  {
   "cell_type": "markdown",
   "id": "71238922",
   "metadata": {},
   "source": [
    "# * * * * * * * * * * * * * * * 1st Block of Encryption Finished * * * * * * * * * * * * * * * "
   ]
  },
  {
   "cell_type": "markdown",
   "id": "7c877018",
   "metadata": {},
   "source": [
    "### Combining and Swapping xor_result and original Right Plaintext"
   ]
  },
  {
   "cell_type": "markdown",
   "id": "119587e1",
   "metadata": {},
   "source": [
    "![Obraz](COMSWP.png)"
   ]
  },
  {
   "cell_type": "code",
   "execution_count": 67,
   "id": "13be38c3",
   "metadata": {},
   "outputs": [
    {
     "name": "stdout",
     "output_type": "stream",
     "text": [
      "result = 10011101\n"
     ]
    }
   ],
   "source": [
    "result1 = right_plaintext + xor_result\n",
    "\n",
    "print(f\"result = {result1}\")"
   ]
  },
  {
   "cell_type": "markdown",
   "id": "56a131c0",
   "metadata": {},
   "source": [
    "Expected result:<br/>\n",
    "10011101"
   ]
  },
  {
   "cell_type": "markdown",
   "id": "e941397a",
   "metadata": {},
   "source": [
    "# * * * * * * * * * * * 2nd Block of Encryption Using 2nd Key * * * * * * * * * * * "
   ]
  },
  {
   "cell_type": "markdown",
   "id": "9247e544",
   "metadata": {},
   "source": [
    "![Obraz](2ENC.png)"
   ]
  },
  {
   "cell_type": "markdown",
   "id": "d4ddb5bd",
   "metadata": {},
   "source": [
    "### 1. Plaintext split"
   ]
  },
  {
   "cell_type": "markdown",
   "id": "2f703a7a",
   "metadata": {},
   "source": [
    "![Obraz](2PS.png)"
   ]
  },
  {
   "cell_type": "code",
   "execution_count": 68,
   "id": "c085bb79",
   "metadata": {},
   "outputs": [
    {
     "name": "stdout",
     "output_type": "stream",
     "text": [
      "left plaintext = 1001\n",
      "right plaintext = 1101\n"
     ]
    }
   ],
   "source": [
    "left_plaintext = result1[0:4]\n",
    "right_plaintext = result1[4:8]\n",
    "\n",
    "print(f\"left plaintext = {left_plaintext}\")\n",
    "print(f\"right plaintext = {right_plaintext}\")"
   ]
  },
  {
   "cell_type": "markdown",
   "id": "03f90e8d",
   "metadata": {},
   "source": [
    "### 2. Expand and Permutate (8bit into 8bit)"
   ]
  },
  {
   "cell_type": "markdown",
   "id": "accb78df",
   "metadata": {},
   "source": [
    "![Obraz](2EP.png)"
   ]
  },
  {
   "cell_type": "code",
   "execution_count": 69,
   "id": "5f71af22",
   "metadata": {},
   "outputs": [
    {
     "name": "stdout",
     "output_type": "stream",
     "text": [
      "Permutated text: 11101011\n"
     ]
    }
   ],
   "source": [
    "permuted_right_text2 = ''\n",
    "\n",
    "for i in 𝐸𝑃:\n",
    "    permuted_right_text2 += right_plaintext[i]\n",
    "\n",
    "print(\"Permutated text:\", permuted_right_text2)"
   ]
  },
  {
   "cell_type": "markdown",
   "id": "640054cc",
   "metadata": {},
   "source": [
    "### 3. XOR Operation of Right Plaintext and 2nd Key"
   ]
  },
  {
   "cell_type": "markdown",
   "id": "9cc21520",
   "metadata": {},
   "source": [
    "![Obraz](2XOR.png)"
   ]
  },
  {
   "cell_type": "code",
   "execution_count": 70,
   "id": "32ae065d",
   "metadata": {},
   "outputs": [
    {
     "name": "stdout",
     "output_type": "stream",
     "text": [
      "xor result = 10101000\n"
     ]
    }
   ],
   "source": [
    "xor_result = ''\n",
    "\n",
    "for i in range(len(permuted_right_text)):\n",
    "    if permuted_right_text2[i] != K_2[i]:\n",
    "        xor_result += '1'\n",
    "    else:\n",
    "        xor_result += '0'\n",
    "\n",
    "print(f\"xor result = {xor_result}\")"
   ]
  },
  {
   "cell_type": "markdown",
   "id": "f7b3a891",
   "metadata": {},
   "source": [
    "### 4. Right Plaintext Split"
   ]
  },
  {
   "cell_type": "markdown",
   "id": "4acee77d",
   "metadata": {},
   "source": [
    "![Obraz](2RPS.png)"
   ]
  },
  {
   "cell_type": "code",
   "execution_count": 71,
   "id": "78971730",
   "metadata": {},
   "outputs": [
    {
     "name": "stdout",
     "output_type": "stream",
     "text": [
      "left xor = 1010\n",
      "right xor = 1000\n"
     ]
    }
   ],
   "source": [
    "left_xor = xor_result[0:4]\n",
    "right_xor = xor_result[4:8]\n",
    "\n",
    "print(f\"left xor = {left_xor}\")\n",
    "print(f\"right xor = {right_xor}\")"
   ]
  },
  {
   "cell_type": "markdown",
   "id": "551b62ab",
   "metadata": {},
   "source": [
    "### 5. Mapping Bits Using S-Boxes"
   ]
  },
  {
   "cell_type": "markdown",
   "id": "8bb7afa8",
   "metadata": {},
   "source": [
    "![Obraz](2MBUS.png)"
   ]
  },
  {
   "cell_type": "code",
   "execution_count": 72,
   "id": "bd672661",
   "metadata": {},
   "outputs": [
    {
     "name": "stdout",
     "output_type": "stream",
     "text": [
      "left S-box output = [0, 1]\n",
      "right S-box output = [1, 1]\n"
     ]
    }
   ],
   "source": [
    "# Mapping strings into tuples of intigers\n",
    "left_xor_tuple = tuple(map(int, left_xor))\n",
    "right_xor_tuple = tuple(map(int, right_xor))\n",
    "\n",
    "# Retrieving data from S-Boxes\n",
    "left_sbox_output = S0[left_xor_tuple]\n",
    "right_sbox_output = S1[right_xor_tuple]\n",
    "\n",
    "print(f\"left S-box output = {left_sbox_output}\")\n",
    "print(f\"right S-box output = {right_sbox_output}\")"
   ]
  },
  {
   "cell_type": "markdown",
   "id": "2fb82b77",
   "metadata": {},
   "source": [
    "### 6. Bits Concatenation"
   ]
  },
  {
   "cell_type": "markdown",
   "id": "462e5f63",
   "metadata": {},
   "source": [
    "![Obraz](2BC.png)"
   ]
  },
  {
   "cell_type": "code",
   "execution_count": 73,
   "id": "53282f9f",
   "metadata": {},
   "outputs": [
    {
     "name": "stdout",
     "output_type": "stream",
     "text": [
      "combined bits = 0111\n"
     ]
    }
   ],
   "source": [
    "combined_bits = ''.join(map(str, left_sbox_output + right_sbox_output))\n",
    "\n",
    "print(f\"combined bits = {combined_bits}\")"
   ]
  },
  {
   "cell_type": "markdown",
   "id": "fbae8636",
   "metadata": {},
   "source": [
    "### 7. Bits Permutation (4bit into 4bit)"
   ]
  },
  {
   "cell_type": "markdown",
   "id": "581b0e86",
   "metadata": {},
   "source": [
    "![Obraz](2BP.png)"
   ]
  },
  {
   "cell_type": "code",
   "execution_count": 74,
   "id": "778dfde1",
   "metadata": {},
   "outputs": [
    {
     "name": "stdout",
     "output_type": "stream",
     "text": [
      "permuted bits = 1110\n"
     ]
    }
   ],
   "source": [
    "permuted_bits = ''\n",
    "\n",
    "for i in 𝑃4:\n",
    "    permuted_bits += combined_bits[i]\n",
    "\n",
    "print(\"permuted bits =\", permuted_bits)"
   ]
  },
  {
   "cell_type": "code",
   "execution_count": 75,
   "id": "a800e0f1",
   "metadata": {},
   "outputs": [
    {
     "name": "stdout",
     "output_type": "stream",
     "text": [
      "left plaintext = 1001\n"
     ]
    }
   ],
   "source": [
    "print(f\"left plaintext = {left_plaintext}\")"
   ]
  },
  {
   "cell_type": "markdown",
   "id": "81177493",
   "metadata": {},
   "source": [
    "### 8. XOR Operation of Left Plaintext and Previous Results"
   ]
  },
  {
   "cell_type": "markdown",
   "id": "fb6403d6",
   "metadata": {},
   "source": [
    "![Obraz](2XORE.png)"
   ]
  },
  {
   "cell_type": "code",
   "execution_count": 76,
   "id": "c861a3bf",
   "metadata": {},
   "outputs": [
    {
     "name": "stdout",
     "output_type": "stream",
     "text": [
      "xor result = 0111\n"
     ]
    }
   ],
   "source": [
    "xor_result = ''\n",
    "\n",
    "for i in range(len(left_plaintext)):\n",
    "    if left_plaintext[i] != permuted_bits[i]:\n",
    "        xor_result += '1'\n",
    "    else:\n",
    "        xor_result += '0'\n",
    "\n",
    "print(f\"xor result = {xor_result}\")"
   ]
  },
  {
   "cell_type": "markdown",
   "id": "b828aed1",
   "metadata": {},
   "source": [
    "# * * * * * * * * * * * * * * 2nd Block of Encryption Finished * * * * * * * * * * * * * * "
   ]
  },
  {
   "cell_type": "markdown",
   "id": "777b8ca0",
   "metadata": {},
   "source": [
    "### Combining Results and Performing Inverse Permutation"
   ]
  },
  {
   "cell_type": "markdown",
   "id": "716277ce",
   "metadata": {},
   "source": [
    "![Obraz](ENCRYPTION.png)"
   ]
  },
  {
   "cell_type": "code",
   "execution_count": 85,
   "id": "0e17971e",
   "metadata": {},
   "outputs": [
    {
     "name": "stdout",
     "output_type": "stream",
     "text": [
      "result: 01111101\n"
     ]
    }
   ],
   "source": [
    "# Concatenation\n",
    "result = xor_result + right_plaintext \n",
    "\n",
    "print(\"result:\", result)"
   ]
  },
  {
   "cell_type": "markdown",
   "id": "5635a38d",
   "metadata": {},
   "source": [
    "Oczekiwany wynik:<br/>\n",
    "11101101"
   ]
  },
  {
   "cell_type": "code",
   "execution_count": 86,
   "id": "09096453",
   "metadata": {},
   "outputs": [
    {
     "name": "stdout",
     "output_type": "stream",
     "text": [
      "Ciphertext: 10110111\n"
     ]
    }
   ],
   "source": [
    "# Inverse Permutation\n",
    "Ciphertext = ''\n",
    "\n",
    "for i in 𝐼nv𝑃:\n",
    "    Ciphertext += result[i]\n",
    "\n",
    "print(\"Ciphertext:\", Ciphertext)"
   ]
  },
  {
   "cell_type": "markdown",
   "id": "8580dd21",
   "metadata": {},
   "source": [
    "Oczekiwany wynik:<br/>\n",
    "01110111"
   ]
  }
 ],
 "metadata": {
  "kernelspec": {
   "display_name": "Python 3 (ipykernel)",
   "language": "python",
   "name": "python3"
  },
  "language_info": {
   "codemirror_mode": {
    "name": "ipython",
    "version": 3
   },
   "file_extension": ".py",
   "mimetype": "text/x-python",
   "name": "python",
   "nbconvert_exporter": "python",
   "pygments_lexer": "ipython3",
   "version": "3.8.13"
  }
 },
 "nbformat": 4,
 "nbformat_minor": 5
}
